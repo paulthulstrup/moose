{
 "cells": [
  {
   "cell_type": "markdown",
   "metadata": {},
   "source": [
    "# Billiald Experience\n",
    "\n",
    "We are reproducing the billiald simulation in order to understand better our materials parameters.\n",
    "\n",
    "The simulation was done using the Multi-Object Orientated Simuation Environment (MOOSE), and iterated over a range of values using a python script called billiald_simulation.py. The results where saved in a csv file that will here be extracted in order to be analyzed in compared to the simulation that can be found in Jordan's Billiald paper.\n"
   ]
  },
  {
   "cell_type": "code",
   "execution_count": 2,
   "metadata": {},
   "outputs": [],
   "source": [
    "#Importing the libraries required (we will use the pandas library to play with the data\n",
    "\n",
    "%matplotlib inline \n",
    "\n",
    "import numpy as np\n",
    "import matplotlib.pyplot as plt\n",
    "import matplotlib as mpl # this actually imports matplotlib\n",
    "import matplotlib.cm as cm #allows us easy access to colormaps\n",
    "import matplotlib.pyplot as plt #sets up plotting under plt\n",
    "import pandas as pd\n",
    "#sets up pandas table display\n",
    "pd.set_option('display.width', 500)\n",
    "pd.set_option('display.max_columns', 100)\n",
    "pd.set_option('display.notebook_repr_html', True)"
   ]
  },
  {
   "cell_type": "markdown",
   "metadata": {},
   "source": [
    "## The data\n",
    "\n",
    "The data is saved in a csv file with the following columns: \n",
    "    [Alpha, Beta, DV1, ... DV9]\n",
    "    \n",
    "Where DV are the 9 voltages at which we simulated for each set of the material's property.\n"
   ]
  },
  {
   "cell_type": "code",
   "execution_count": 3,
   "metadata": {},
   "outputs": [
    {
     "data": {
      "text/html": [
       "<div>\n",
       "<style>\n",
       "    .dataframe thead tr:only-child th {\n",
       "        text-align: right;\n",
       "    }\n",
       "\n",
       "    .dataframe thead th {\n",
       "        text-align: left;\n",
       "    }\n",
       "\n",
       "    .dataframe tbody tr th {\n",
       "        vertical-align: top;\n",
       "    }\n",
       "</style>\n",
       "<table border=\"1\" class=\"dataframe\">\n",
       "  <thead>\n",
       "    <tr style=\"text-align: right;\">\n",
       "      <th></th>\n",
       "      <th>alpha</th>\n",
       "      <th>beta</th>\n",
       "      <th>100nA</th>\n",
       "      <th>200nA</th>\n",
       "      <th>300nA</th>\n",
       "      <th>400nA</th>\n",
       "      <th>500nA</th>\n",
       "      <th>600nA</th>\n",
       "      <th>700nA</th>\n",
       "      <th>800nA</th>\n",
       "      <th>900nA</th>\n",
       "      <th>1000nA</th>\n",
       "    </tr>\n",
       "  </thead>\n",
       "  <tbody>\n",
       "    <tr>\n",
       "      <th>0</th>\n",
       "      <td>0.02</td>\n",
       "      <td>8.196721e+07</td>\n",
       "      <td>0.248575</td>\n",
       "      <td>0.307037</td>\n",
       "      <td>0.355682</td>\n",
       "      <td>0.398501</td>\n",
       "      <td>0.437119</td>\n",
       "      <td>0.472468</td>\n",
       "      <td>0.505176</td>\n",
       "      <td>0.535696</td>\n",
       "      <td>0.564374</td>\n",
       "      <td>0.591475</td>\n",
       "    </tr>\n",
       "    <tr>\n",
       "      <th>1</th>\n",
       "      <td>0.06</td>\n",
       "      <td>8.196721e+07</td>\n",
       "      <td>0.199837</td>\n",
       "      <td>0.235314</td>\n",
       "      <td>0.268435</td>\n",
       "      <td>0.298797</td>\n",
       "      <td>0.326644</td>\n",
       "      <td>0.352335</td>\n",
       "      <td>0.376208</td>\n",
       "      <td>0.398544</td>\n",
       "      <td>0.419572</td>\n",
       "      <td>0.439478</td>\n",
       "    </tr>\n",
       "  </tbody>\n",
       "</table>\n",
       "</div>"
      ],
      "text/plain": [
       "   alpha          beta     100nA     200nA     300nA     400nA     500nA     600nA     700nA     800nA     900nA    1000nA\n",
       "0   0.02  8.196721e+07  0.248575  0.307037  0.355682  0.398501  0.437119  0.472468  0.505176  0.535696  0.564374  0.591475\n",
       "1   0.06  8.196721e+07  0.199837  0.235314  0.268435  0.298797  0.326644  0.352335  0.376208  0.398544  0.419572  0.439478"
      ]
     },
     "execution_count": 3,
     "metadata": {},
     "output_type": "execute_result"
    }
   ],
   "source": [
    "df4 = pd.read_csv(\"./data/T_4_lowV_alpha-0.02-1.98-step0.04_beta-81967213.1148.csv\",header=None, names = [\"alpha\",\"beta\",\"100nA\",\"200nA\",\"300nA\",\n",
    "                                                \"400nA\",\"500nA\",\"600nA\",\"700nA\",\"800nA\",\"900nA\",\"1000nA\"])\n",
    "df4.head(2)"
   ]
  },
  {
   "cell_type": "code",
   "execution_count": 4,
   "metadata": {},
   "outputs": [
    {
     "data": {
      "text/html": [
       "<div>\n",
       "<style>\n",
       "    .dataframe thead tr:only-child th {\n",
       "        text-align: right;\n",
       "    }\n",
       "\n",
       "    .dataframe thead th {\n",
       "        text-align: left;\n",
       "    }\n",
       "\n",
       "    .dataframe tbody tr th {\n",
       "        vertical-align: top;\n",
       "    }\n",
       "</style>\n",
       "<table border=\"1\" class=\"dataframe\">\n",
       "  <thead>\n",
       "    <tr style=\"text-align: right;\">\n",
       "      <th></th>\n",
       "      <th>alpha</th>\n",
       "      <th>beta</th>\n",
       "      <th>100nA</th>\n",
       "      <th>200nA</th>\n",
       "      <th>300nA</th>\n",
       "      <th>400nA</th>\n",
       "      <th>500nA</th>\n",
       "      <th>600nA</th>\n",
       "      <th>700nA</th>\n",
       "      <th>800nA</th>\n",
       "      <th>900nA</th>\n",
       "      <th>1000nA</th>\n",
       "    </tr>\n",
       "  </thead>\n",
       "  <tbody>\n",
       "    <tr>\n",
       "      <th>0</th>\n",
       "      <td>3.70</td>\n",
       "      <td>8.196721e+07</td>\n",
       "      <td>0.171767</td>\n",
       "      <td>0.176066</td>\n",
       "      <td>0.181788</td>\n",
       "      <td>0.188222</td>\n",
       "      <td>0.194951</td>\n",
       "      <td>0.201746</td>\n",
       "      <td>0.208490</td>\n",
       "      <td>0.215120</td>\n",
       "      <td>0.221609</td>\n",
       "      <td>0.227943</td>\n",
       "    </tr>\n",
       "    <tr>\n",
       "      <th>1</th>\n",
       "      <td>3.75</td>\n",
       "      <td>8.196721e+07</td>\n",
       "      <td>0.171741</td>\n",
       "      <td>0.175987</td>\n",
       "      <td>0.181649</td>\n",
       "      <td>0.188023</td>\n",
       "      <td>0.194697</td>\n",
       "      <td>0.201442</td>\n",
       "      <td>0.208139</td>\n",
       "      <td>0.214727</td>\n",
       "      <td>0.221178</td>\n",
       "      <td>0.227477</td>\n",
       "    </tr>\n",
       "  </tbody>\n",
       "</table>\n",
       "</div>"
      ],
      "text/plain": [
       "   alpha          beta     100nA     200nA     300nA     400nA     500nA     600nA     700nA     800nA     900nA    1000nA\n",
       "0   3.70  8.196721e+07  0.171767  0.176066  0.181788  0.188222  0.194951  0.201746  0.208490  0.215120  0.221609  0.227943\n",
       "1   3.75  8.196721e+07  0.171741  0.175987  0.181649  0.188023  0.194697  0.201442  0.208139  0.214727  0.221178  0.227477"
      ]
     },
     "execution_count": 4,
     "metadata": {},
     "output_type": "execute_result"
    }
   ],
   "source": [
    "df5 = pd.read_csv(\"./data/T_5_lowV_alpha-3.7-5.65-step0.05_beta-81967213.1148.csv\",header=None, names = [\"alpha\",\"beta\",\"100nA\",\"200nA\",\"300nA\",\n",
    "                                                \"400nA\",\"500nA\",\"600nA\",\"700nA\",\"800nA\",\"900nA\",\"1000nA\"])\n",
    "df5.head(2)"
   ]
  },
  {
   "cell_type": "code",
   "execution_count": 5,
   "metadata": {},
   "outputs": [
    {
     "data": {
      "text/html": [
       "<div>\n",
       "<style>\n",
       "    .dataframe thead tr:only-child th {\n",
       "        text-align: right;\n",
       "    }\n",
       "\n",
       "    .dataframe thead th {\n",
       "        text-align: left;\n",
       "    }\n",
       "\n",
       "    .dataframe tbody tr th {\n",
       "        vertical-align: top;\n",
       "    }\n",
       "</style>\n",
       "<table border=\"1\" class=\"dataframe\">\n",
       "  <thead>\n",
       "    <tr style=\"text-align: right;\">\n",
       "      <th></th>\n",
       "      <th>alpha</th>\n",
       "      <th>beta</th>\n",
       "      <th>100nA</th>\n",
       "      <th>200nA</th>\n",
       "      <th>300nA</th>\n",
       "      <th>400nA</th>\n",
       "      <th>500nA</th>\n",
       "      <th>600nA</th>\n",
       "      <th>700nA</th>\n",
       "      <th>800nA</th>\n",
       "      <th>900nA</th>\n",
       "    </tr>\n",
       "  </thead>\n",
       "  <tbody>\n",
       "    <tr>\n",
       "      <th>0</th>\n",
       "      <td>28.0</td>\n",
       "      <td>8.196721e+07</td>\n",
       "      <td>0.171094</td>\n",
       "      <td>0.173851</td>\n",
       "      <td>0.177630</td>\n",
       "      <td>0.181972</td>\n",
       "      <td>0.186583</td>\n",
       "      <td>0.191294</td>\n",
       "      <td>0.196010</td>\n",
       "      <td>0.200681</td>\n",
       "      <td>0.205281</td>\n",
       "    </tr>\n",
       "    <tr>\n",
       "      <th>1</th>\n",
       "      <td>28.1</td>\n",
       "      <td>8.196721e+07</td>\n",
       "      <td>0.171090</td>\n",
       "      <td>0.173838</td>\n",
       "      <td>0.177606</td>\n",
       "      <td>0.181937</td>\n",
       "      <td>0.186538</td>\n",
       "      <td>0.191239</td>\n",
       "      <td>0.195946</td>\n",
       "      <td>0.200609</td>\n",
       "      <td>0.205202</td>\n",
       "    </tr>\n",
       "  </tbody>\n",
       "</table>\n",
       "</div>"
      ],
      "text/plain": [
       "   alpha          beta     100nA     200nA     300nA     400nA     500nA     600nA     700nA     800nA     900nA\n",
       "0   28.0  8.196721e+07  0.171094  0.173851  0.177630  0.181972  0.186583  0.191294  0.196010  0.200681  0.205281\n",
       "1   28.1  8.196721e+07  0.171090  0.173838  0.177606  0.181937  0.186538  0.191239  0.195946  0.200609  0.205202"
      ]
     },
     "execution_count": 5,
     "metadata": {},
     "output_type": "execute_result"
    }
   ],
   "source": [
    "df6 = pd.read_csv(\"./data/T_6_alpha-28.0-34.9-step0.1_beta-81967213.1148.csv\",header=None, names = [\"alpha\",\"beta\",\"100nA\",\"200nA\",\"300nA\",\n",
    "                                                \"400nA\",\"500nA\",\"600nA\",\"700nA\",\"800nA\",\"900nA\"])\n",
    "df6.head(2)"
   ]
  },
  {
   "cell_type": "markdown",
   "metadata": {},
   "source": [
    "### This code allows to look up at a certain value of the sink\n",
    "\n",
    "Enter, the sink factor in alpha."
   ]
  },
  {
   "cell_type": "code",
   "execution_count": 8,
   "metadata": {},
   "outputs": [],
   "source": [
    "# Choose the index here:\n",
    "index3 = 1\n",
    "index4 = 10\n",
    "index5 = 0\n",
    "index6 = 1\n",
    "\n",
    "## Power of 3 REQUIRES SIM TO WORK\n",
    "#l3=df3.iloc[:,:].values\n",
    "#Temp = l3[index3].flatten()[2:]\n",
    "#\n",
    "I3 = np.arange(100,1100,100)*1E-9\n",
    "#T3 = [x-0.170 for x in Temp]\n",
    "#trend = [np.power(i,1.6)*(3E-3/np.power((100E-9),1.6)) for i in I3]\n",
    "\n",
    "# Power of 4\n",
    "l4=df4.iloc[:,:].values\n",
    "Temp4 = l4[index4].flatten()[2:]\n",
    "\n",
    "I4 = np.arange(100,1100,100)*1E-9\n",
    "T4 = [x-0.170 for x in Temp4]\n",
    "trend4 = [np.power(i,1.6)*(3E-3/np.power((100E-9),1.6)) for i in I4]\n",
    "\n",
    "\n",
    "# Power of 5\n",
    "\n",
    "l5=df5.iloc[:,:].values\n",
    "Temp5 = l5[index5].flatten()[2:]\n",
    "\n",
    "I5 = np.arange(100,1100,100)*1E-9\n",
    "T5 = [x-0.170 for x in Temp5]\n",
    "trend5 = [np.power(i,1.6)*(3E-3/np.power((100E-9),1.6)) for i in I5]\n",
    "\n",
    "# Power of 6\n",
    "l6=df6.iloc[:,:].values\n",
    "Temp6 = l6[index6].flatten()[2:]\n",
    "\n",
    "I6 = np.arange(100,1000,100)*1E-9\n",
    "T6 = [x-0.170 for x in Temp6]\n",
    "trend = [np.power(i,1.6)*(3E-3/np.power((100E-9),1.6)) for i in I6]"
   ]
  },
  {
   "cell_type": "code",
   "execution_count": 9,
   "metadata": {
    "scrolled": true
   },
   "outputs": [
    {
     "data": {
      "text/plain": [
       "<matplotlib.text.Text at 0x110c10dd0>"
      ]
     },
     "execution_count": 9,
     "metadata": {},
     "output_type": "execute_result"
    },
    {
     "data": {
      "image/png": "[encoded data removed]",
      "text/plain": [
       "<matplotlib.figure.Figure at 0x1106a5310>"
      ]
     },
     "metadata": {},
     "output_type": "display_data"
    }
   ],
   "source": [
    "f, axarr = plt.subplots(2, 2)\n",
    "#axarr[0, 0].loglog(I, T,\"o\", basex=10)\n",
    "axarr[0, 1].loglog(I4, T4,\"o\", basex=10)\n",
    "axarr[0, 1].loglog(I4,trend4)\n",
    "axarr[0, 1].set_title('Power of 4')\n",
    "\n",
    "axarr[1, 0].loglog(I5, T5,\"o\", basex=10)\n",
    "axarr[1, 0].loglog(I5,trend5)\n",
    "axarr[1, 0].set_title('Power of 5')"
   ]
  },
  {
   "cell_type": "code",
   "execution_count": 25,
   "metadata": {},
   "outputs": [
    {
     "name": "stdout",
     "output_type": "stream",
     "text": [
      "Alpha T^4 = 81967213.1148\n",
      "Alpha T^5 = 3.1\n",
      "Alpha T^6 = 28.1\n"
     ]
    },
    {
     "data": {
      "image/png": "[encoded data removed]",
      "text/plain": [
       "<matplotlib.figure.Figure at 0x1109a9550>"
      ]
     },
     "metadata": {},
     "output_type": "display_data"
    }
   ],
   "source": [
    "## PLOTING ##\n",
    "plt.close('all')\n",
    "f, axarr = plt.subplots(2, 2)\n",
    "#axarr[0, 0].loglog(I, T,\"o\", basex=10)\n",
    "axarr[0, 0].loglog(I3,trend)\n",
    "axarr[0, 0].set_title('Power of 3')\n",
    "\n",
    "axarr[0, 1].loglog(I4, T4,\"o\", basex=10)\n",
    "axarr[0, 1].loglog(I4,trend)\n",
    "axarr[0, 1].set_title('Power of 4')\n",
    "\n",
    "axarr[1, 0].loglog(I5, T5,\"o\", basex=10)\n",
    "axarr[1, 0].loglog(I5,trend)\n",
    "axarr[1, 0].set_title('Power of 5')\n",
    "\n",
    "axarr[1, 1].loglog(I6, T6,\"o\", basex=10)\n",
    "axarr[1, 1].loglog(I6,trend)\n",
    "axarr[1, 1].set_title('Power of 6')\n",
    "# Fine-tune figure; hide x ticks for top plots and y ticks for right plots\n",
    "plt.setp([a.get_xticklabels() for a in axarr[0, :]], visible=False)\n",
    "plt.setp([a.get_yticklabels() for a in axarr[:, 1]], visible=False)\n",
    "\n",
    "\n",
    "# Print the values of the alphas \n",
    "#print \"Alpha T^3 = \" + str(l3[index3])\n",
    "print \"Alpha T^4 = \" + str(l4[index4,0])\n",
    "print \"Alpha T^5 = \" + str(l5[index5,0])\n",
    "print \"Alpha T^6 = \" + str(l6[index6,0])"
   ]
  },
  {
   "cell_type": "code",
   "execution_count": null,
   "metadata": {},
   "outputs": [],
   "source": []
  },
  {
   "cell_type": "code",
   "execution_count": null,
   "metadata": {},
   "outputs": [],
   "source": []
  }
 ],
 "metadata": {
  "anaconda-cloud": {},
  "kernelspec": {
   "display_name": "Python 2",
   "language": "python",
   "name": "python2"
  },
  "language_info": {
   "codemirror_mode": {
    "name": "ipython",
    "version": 2
   },
   "file_extension": ".py",
   "mimetype": "text/x-python",
   "name": "python",
   "nbconvert_exporter": "python",
   "pygments_lexer": "ipython2",
   "version": "2.7.11"
  }
 },
 "nbformat": 4,
 "nbformat_minor": 1
}
