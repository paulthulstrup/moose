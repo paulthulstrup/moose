{
 "cells": [
  {
   "cell_type": "code",
   "execution_count": 1,
   "metadata": {
    "collapsed": true
   },
   "outputs": [],
   "source": [
    "#Importing the libraries required (we will use the pandas library to play with the data\n",
    "\n",
    "%matplotlib inline \n",
    "\n",
    "import numpy as np\n",
    "import matplotlib.pyplot as plt\n",
    "import matplotlib as mpl # this actually imports matplotlib\n",
    "import matplotlib.cm as cm #allows us easy access to colormaps\n",
    "import matplotlib.pyplot as plt #sets up plotting under plt\n",
    "import pandas as pd\n",
    "#sets up pandas table display\n",
    "pd.set_option('display.width', 500)\n",
    "pd.set_option('display.max_columns', 100)\n",
    "pd.set_option('display.notebook_repr_html', True)"
   ]
  },
  {
   "cell_type": "code",
   "execution_count": 3,
   "metadata": {
    "collapsed": false
   },
   "outputs": [
    {
     "data": {
      "text/html": [
       "<div>\n",
       "<table border=\"1\" class=\"dataframe\">\n",
       "  <thead>\n",
       "    <tr style=\"text-align: right;\">\n",
       "      <th></th>\n",
       "      <th>alpha</th>\n",
       "      <th>beta</th>\n",
       "      <th>10nA</th>\n",
       "      <th>20nA</th>\n",
       "      <th>30nA</th>\n",
       "      <th>40nA</th>\n",
       "      <th>50nA</th>\n",
       "      <th>60nA</th>\n",
       "      <th>70nA</th>\n",
       "      <th>80nA</th>\n",
       "      <th>90nA</th>\n",
       "    </tr>\n",
       "  </thead>\n",
       "  <tbody>\n",
       "    <tr>\n",
       "      <th>0</th>\n",
       "      <td>0.1</td>\n",
       "      <td>8.196721e+07</td>\n",
       "      <td>0.068758</td>\n",
       "      <td>0.082403</td>\n",
       "      <td>0.09275</td>\n",
       "      <td>0.101422</td>\n",
       "      <td>0.109075</td>\n",
       "      <td>0.116034</td>\n",
       "      <td>0.122485</td>\n",
       "      <td>0.128541</td>\n",
       "      <td>0.134279</td>\n",
       "    </tr>\n",
       "    <tr>\n",
       "      <th>1</th>\n",
       "      <td>0.2</td>\n",
       "      <td>8.196721e+07</td>\n",
       "      <td>0.059549</td>\n",
       "      <td>0.068687</td>\n",
       "      <td>0.07627</td>\n",
       "      <td>0.082942</td>\n",
       "      <td>0.089012</td>\n",
       "      <td>0.094648</td>\n",
       "      <td>0.099946</td>\n",
       "      <td>0.104969</td>\n",
       "      <td>0.109759</td>\n",
       "    </tr>\n",
       "  </tbody>\n",
       "</table>\n",
       "</div>"
      ],
      "text/plain": [
       "   alpha          beta      10nA      20nA     30nA      40nA      50nA      60nA      70nA      80nA      90nA\n",
       "0    0.1  8.196721e+07  0.068758  0.082403  0.09275  0.101422  0.109075  0.116034  0.122485  0.128541  0.134279\n",
       "1    0.2  8.196721e+07  0.059549  0.068687  0.07627  0.082942  0.089012  0.094648  0.099946  0.104969  0.109759"
      ]
     },
     "execution_count": 3,
     "metadata": {},
     "output_type": "execute_result"
    }
   ],
   "source": [
    "df = pd.read_csv(\"./data/T_4_lowV_alpha-0.1-0.6-step0.1_beta-81967213.1148.csv\",header=None, names = [\"alpha\",\"beta\",\"10nA\",\"20nA\",\"30nA\",\n",
    "                                                \"40nA\",\"50nA\",\"60nA\",\"70nA\",\"80nA\",\"90nA\"])\n",
    "df.head(2)"
   ]
  },
  {
   "cell_type": "code",
   "execution_count": 5,
   "metadata": {
    "collapsed": false
   },
   "outputs": [
    {
     "name": "stdout",
     "output_type": "stream",
     "text": [
      "[[  1.00000000e-01   8.19672131e+07   6.87582611e-02   8.24031482e-02\n",
      "    9.27499661e-02   1.01422073e-01   1.09074920e-01   1.16034401e-01\n",
      "    1.22485085e-01   1.28541273e-01   1.34278615e-01]\n",
      " [  2.00000000e-01   8.19672131e+07   5.95489812e-02   6.86870083e-02\n",
      "    7.62701990e-02   8.29415081e-02   8.90123544e-02   9.46482291e-02\n",
      "    9.99464805e-02   1.04969357e-01   1.09759498e-01]\n",
      " [  3.00000000e-01   8.19672131e+07   5.60355231e-02   6.29290028e-02\n",
      "    6.90655585e-02   7.46696567e-02   7.98871735e-02   8.48029318e-02\n",
      "    8.94697329e-02   9.39232077e-02   9.81892113e-02]\n",
      " [  4.00000000e-01   8.19672131e+07   5.42371087e-02   5.97426378e-02\n",
      "    6.49291528e-02   6.98117322e-02   7.44425808e-02   7.88583035e-02\n",
      "    8.30842244e-02   8.71392068e-02   9.10383565e-02]\n",
      " [  5.00000000e-01   8.19672131e+07   5.31729796e-02   5.77294213e-02\n",
      "    6.22282433e-02   6.65727345e-02   7.07583503e-02   7.47907578e-02\n",
      "    7.86769785e-02   8.24243740e-02   8.60404823e-02]\n",
      " [  6.00000000e-01   8.19672131e+07   5.24842851e-02   5.63507571e-02\n",
      "    6.03233011e-02   6.42443018e-02   6.80735942e-02   7.17962287e-02\n",
      "    7.54065271e-02   7.89035991e-02   8.22893886e-02]]\n"
     ]
    }
   ],
   "source": [
    "data = df.iloc[:,:].values\n",
    "print data"
   ]
  },
  {
   "cell_type": "code",
   "execution_count": 11,
   "metadata": {
    "collapsed": false
   },
   "outputs": [
    {
     "data": {
      "text/plain": [
       "[<matplotlib.lines.Line2D at 0x11562d450>]"
      ]
     },
     "execution_count": 11,
     "metadata": {},
     "output_type": "execute_result"
    },
    {
     "data": {
      "image/png": "[encoded data removed]",
      "text/plain": [
       "<matplotlib.figure.Figure at 0x1153865d0>"
      ]
     },
     "metadata": {},
     "output_type": "display_data"
    }
   ],
   "source": [
    "dv = np.arange(10,100,10)\n",
    "plt.plot(dv, data[4,2:],\"o\")"
   ]
  },
  {
   "cell_type": "code",
   "execution_count": null,
   "metadata": {
    "collapsed": true
   },
   "outputs": [],
   "source": []
  }
 ],
 "metadata": {
  "anaconda-cloud": {},
  "kernelspec": {
   "display_name": "Python [Root]",
   "language": "python",
   "name": "Python [Root]"
  },
  "language_info": {
   "codemirror_mode": {
    "name": "ipython",
    "version": 2
   },
   "file_extension": ".py",
   "mimetype": "text/x-python",
   "name": "python",
   "nbconvert_exporter": "python",
   "pygments_lexer": "ipython2",
   "version": "2.7.11"
  }
 },
 "nbformat": 4,
 "nbformat_minor": 0
}
